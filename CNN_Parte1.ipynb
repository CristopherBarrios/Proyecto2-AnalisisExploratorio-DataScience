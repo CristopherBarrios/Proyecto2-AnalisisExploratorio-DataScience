{
 "cells": [
  {
   "cell_type": "code",
   "execution_count": 1,
   "metadata": {},
   "outputs": [],
   "source": [
    "import pandas as pd\n",
    "from tensorflow import keras\n",
    "from tensorflow.keras import layers\n",
    "import numpy as np\n",
    "from tensorflow.keras.callbacks import ModelCheckpoint\n",
    "import matplotlib.pyplot as plt\n",
    "from PIL import Image\n",
    "from sklearn import metrics"
   ]
  },
  {
   "cell_type": "code",
   "execution_count": 2,
   "metadata": {},
   "outputs": [
    {
     "data": {
      "text/html": [
       "<div>\n",
       "<style scoped>\n",
       "    .dataframe tbody tr th:only-of-type {\n",
       "        vertical-align: middle;\n",
       "    }\n",
       "\n",
       "    .dataframe tbody tr th {\n",
       "        vertical-align: top;\n",
       "    }\n",
       "\n",
       "    .dataframe thead th {\n",
       "        text-align: right;\n",
       "    }\n",
       "</style>\n",
       "<table border=\"1\" class=\"dataframe\">\n",
       "  <thead>\n",
       "    <tr style=\"text-align: right;\">\n",
       "      <th></th>\n",
       "      <th>image_id</th>\n",
       "      <th>label</th>\n",
       "    </tr>\n",
       "  </thead>\n",
       "  <tbody>\n",
       "    <tr>\n",
       "      <th>0</th>\n",
       "      <td>006388_0</td>\n",
       "      <td>CE</td>\n",
       "    </tr>\n",
       "    <tr>\n",
       "      <th>1</th>\n",
       "      <td>008e5c_0</td>\n",
       "      <td>CE</td>\n",
       "    </tr>\n",
       "    <tr>\n",
       "      <th>2</th>\n",
       "      <td>00c058_0</td>\n",
       "      <td>LAA</td>\n",
       "    </tr>\n",
       "    <tr>\n",
       "      <th>3</th>\n",
       "      <td>01adc5_0</td>\n",
       "      <td>LAA</td>\n",
       "    </tr>\n",
       "    <tr>\n",
       "      <th>4</th>\n",
       "      <td>026c97_0</td>\n",
       "      <td>CE</td>\n",
       "    </tr>\n",
       "  </tbody>\n",
       "</table>\n",
       "</div>"
      ],
      "text/plain": [
       "   image_id label\n",
       "0  006388_0    CE\n",
       "1  008e5c_0    CE\n",
       "2  00c058_0   LAA\n",
       "3  01adc5_0   LAA\n",
       "4  026c97_0    CE"
      ]
     },
     "execution_count": 2,
     "metadata": {},
     "output_type": "execute_result"
    }
   ],
   "source": [
    "df = pd.read_csv('data/train.csv').dropna()\n",
    "df.drop(columns=['center_id', 'patient_id', 'image_num'], inplace=True)\n",
    "df.head()"
   ]
  },
  {
   "cell_type": "code",
   "execution_count": 3,
   "metadata": {},
   "outputs": [
    {
     "data": {
      "text/plain": [
       "547"
      ]
     },
     "execution_count": 3,
     "metadata": {},
     "output_type": "execute_result"
    }
   ],
   "source": [
    "CE_count = df.where(df['label'] == 'CE').count()[0]\n",
    "CE_count"
   ]
  },
  {
   "cell_type": "code",
   "execution_count": 4,
   "metadata": {},
   "outputs": [
    {
     "data": {
      "text/plain": [
       "207"
      ]
     },
     "execution_count": 4,
     "metadata": {},
     "output_type": "execute_result"
    }
   ],
   "source": [
    "LAA_count = df.where(df['label'] == 'LAA').count()[0]\n",
    "LAA_count"
   ]
  },
  {
   "cell_type": "code",
   "execution_count": 5,
   "metadata": {},
   "outputs": [
    {
     "data": {
      "text/plain": [
       "207"
      ]
     },
     "execution_count": 5,
     "metadata": {},
     "output_type": "execute_result"
    }
   ],
   "source": [
    "cutoff = CE_count if CE_count < LAA_count else LAA_count\n",
    "cutoff"
   ]
  },
  {
   "cell_type": "code",
   "execution_count": 6,
   "metadata": {},
   "outputs": [],
   "source": [
    "CE = df.where(df['label'] == 'CE').dropna().head(cutoff)\n",
    "LAA = df.where(df['label'] == 'LAA').dropna().head(cutoff)"
   ]
  },
  {
   "cell_type": "code",
   "execution_count": 7,
   "metadata": {},
   "outputs": [
    {
     "data": {
      "text/html": [
       "<div>\n",
       "<style scoped>\n",
       "    .dataframe tbody tr th:only-of-type {\n",
       "        vertical-align: middle;\n",
       "    }\n",
       "\n",
       "    .dataframe tbody tr th {\n",
       "        vertical-align: top;\n",
       "    }\n",
       "\n",
       "    .dataframe thead th {\n",
       "        text-align: right;\n",
       "    }\n",
       "</style>\n",
       "<table border=\"1\" class=\"dataframe\">\n",
       "  <thead>\n",
       "    <tr style=\"text-align: right;\">\n",
       "      <th></th>\n",
       "      <th>image_id</th>\n",
       "      <th>label</th>\n",
       "    </tr>\n",
       "  </thead>\n",
       "  <tbody>\n",
       "    <tr>\n",
       "      <th>0</th>\n",
       "      <td>006388_0</td>\n",
       "      <td>CE</td>\n",
       "    </tr>\n",
       "    <tr>\n",
       "      <th>1</th>\n",
       "      <td>008e5c_0</td>\n",
       "      <td>CE</td>\n",
       "    </tr>\n",
       "    <tr>\n",
       "      <th>4</th>\n",
       "      <td>026c97_0</td>\n",
       "      <td>CE</td>\n",
       "    </tr>\n",
       "    <tr>\n",
       "      <th>6</th>\n",
       "      <td>029c68_0</td>\n",
       "      <td>CE</td>\n",
       "    </tr>\n",
       "    <tr>\n",
       "      <th>7</th>\n",
       "      <td>032f10_0</td>\n",
       "      <td>CE</td>\n",
       "    </tr>\n",
       "    <tr>\n",
       "      <th>...</th>\n",
       "      <td>...</td>\n",
       "      <td>...</td>\n",
       "    </tr>\n",
       "    <tr>\n",
       "      <th>740</th>\n",
       "      <td>fd684f_0</td>\n",
       "      <td>LAA</td>\n",
       "    </tr>\n",
       "    <tr>\n",
       "      <th>745</th>\n",
       "      <td>fde9ba_0</td>\n",
       "      <td>LAA</td>\n",
       "    </tr>\n",
       "    <tr>\n",
       "      <th>750</th>\n",
       "      <td>fe9bec_0</td>\n",
       "      <td>LAA</td>\n",
       "    </tr>\n",
       "    <tr>\n",
       "      <th>752</th>\n",
       "      <td>ffec5c_0</td>\n",
       "      <td>LAA</td>\n",
       "    </tr>\n",
       "    <tr>\n",
       "      <th>753</th>\n",
       "      <td>ffec5c_1</td>\n",
       "      <td>LAA</td>\n",
       "    </tr>\n",
       "  </tbody>\n",
       "</table>\n",
       "<p>414 rows × 2 columns</p>\n",
       "</div>"
      ],
      "text/plain": [
       "     image_id label\n",
       "0    006388_0    CE\n",
       "1    008e5c_0    CE\n",
       "4    026c97_0    CE\n",
       "6    029c68_0    CE\n",
       "7    032f10_0    CE\n",
       "..        ...   ...\n",
       "740  fd684f_0   LAA\n",
       "745  fde9ba_0   LAA\n",
       "750  fe9bec_0   LAA\n",
       "752  ffec5c_0   LAA\n",
       "753  ffec5c_1   LAA\n",
       "\n",
       "[414 rows x 2 columns]"
      ]
     },
     "execution_count": 7,
     "metadata": {},
     "output_type": "execute_result"
    }
   ],
   "source": [
    "data = pd.concat([CE, LAA]).dropna()\n",
    "data.head(cutoff*2)"
   ]
  },
  {
   "cell_type": "code",
   "execution_count": 8,
   "metadata": {},
   "outputs": [
    {
     "data": {
      "text/plain": [
       "(414, 512, 512)"
      ]
     },
     "execution_count": 8,
     "metadata": {},
     "output_type": "execute_result"
    }
   ],
   "source": [
    "images = np.array([np.array(Image.open(f'jpgs/{img_id}.jpg')) for img_id in data['image_id']])\n",
    "images.shape"
   ]
  },
  {
   "cell_type": "code",
   "execution_count": 9,
   "metadata": {},
   "outputs": [],
   "source": [
    "enc_labels = np.zeros(shape=(414, 2))\n",
    "for i, label in enumerate(data['label']):\n",
    "    enc_labels[i][1 if label == 'CE' else 0] = 1"
   ]
  },
  {
   "cell_type": "code",
   "execution_count": 10,
   "metadata": {},
   "outputs": [
    {
     "data": {
      "text/plain": [
       "(None, 2)"
      ]
     },
     "execution_count": 10,
     "metadata": {},
     "output_type": "execute_result"
    }
   ],
   "source": [
    "keras.utils.set_random_seed(1234)\n",
    "ConvNN = keras.Sequential()\n",
    "ConvNN.bias = 0.5\n",
    "ConvNN.add(keras.layers.Input((512, 512)))\n",
    "ConvNN.add(keras.layers.Rescaling(1.0/255))\n",
    "\n",
    "#ConvNN.add(keras.layers.Reshape((512, 512)))\n",
    "\n",
    "ConvNN.add(keras.layers.Convolution1D(256, (4), strides=(2), activation='relu'))\n",
    "ConvNN.add(keras.layers.MaxPool1D(2))\n",
    "\n",
    "ConvNN.add(keras.layers.Convolution1D(128, (4), strides=(2), activation='relu'))\n",
    "ConvNN.add(keras.layers.MaxPool1D(2))\n",
    "\n",
    "ConvNN.add(keras.layers.Convolution1D(64,  (4), strides=(2), activation='relu'))\n",
    "ConvNN.add(keras.layers.MaxPool1D(2))\n",
    "\n",
    "ConvNN.add(keras.layers.Flatten())\n",
    "ConvNN.add(keras.layers.Dense(262144, activation='relu'))\n",
    "ConvNN.add(keras.layers.Dense(512, activation='relu'))\n",
    "ConvNN.add(keras.layers.Dense(256,  activation='relu'))\n",
    "\n",
    "ConvNN.add(keras.layers.Dropout(.5))\n",
    "\n",
    "ConvNN.add(keras.layers.Dense(2, activation='softmax'))\n",
    "ConvNN.output_shape"
   ]
  },
  {
   "cell_type": "code",
   "execution_count": 11,
   "metadata": {},
   "outputs": [],
   "source": [
    "# Define the checkpoint path\n",
    "checkpoint_path = \"checkpoint/model_checkpoint.h5\"\n",
    "\n",
    "import os\n",
    "# Define the ModelCheckpoint callback\n",
    "model_checkpoint = ModelCheckpoint(\n",
    "    checkpoint_path,\n",
    "    save_best_only=False,  # Save only the best model\n",
    "    monitor='val_loss',  # Monitor validation loss for saving the best model\n",
    "    mode='min',  # 'min' mode for loss (you can change it to 'max' for accuracy)\n",
    "    verbose=1  # Print a message when a new best model is saved\n",
    ")\n",
    "\n",
    "# Load the model weights if a checkpoint file exists\n",
    "if os.path.exists(checkpoint_path):\n",
    "    ConvNN.load_weights(checkpoint_path)"
   ]
  },
  {
   "cell_type": "code",
   "execution_count": 12,
   "metadata": {},
   "outputs": [],
   "source": [
    "ConvNN.compile( metrics=[\"accuracy\"], \n",
    "optimizer = keras.optimizers.Adam(learning_rate=1e-3), \n",
    "loss=\"categorical_crossentropy\")"
   ]
  },
  {
   "cell_type": "code",
   "execution_count": 13,
   "metadata": {},
   "outputs": [
    {
     "name": "stdout",
     "output_type": "stream",
     "text": [
      "Epoch 1/5\n",
      "13/13 [==============================] - ETA: 0s - loss: 3.3777 - accuracy: 0.5097\n",
      "Epoch 1: saving model to checkpoint\\model_checkpoint.h5\n",
      "13/13 [==============================] - 66s 5s/step - loss: 3.3777 - accuracy: 0.5097\n",
      "Epoch 2/5\n",
      "13/13 [==============================] - ETA: 0s - loss: 0.6967 - accuracy: 0.5097\n",
      "Epoch 2: saving model to checkpoint\\model_checkpoint.h5\n",
      "13/13 [==============================] - 59s 5s/step - loss: 0.6967 - accuracy: 0.5097\n",
      "Epoch 3/5\n",
      "13/13 [==============================] - ETA: 0s - loss: 0.6851 - accuracy: 0.5411\n",
      "Epoch 3: saving model to checkpoint\\model_checkpoint.h5\n",
      "13/13 [==============================] - 60s 5s/step - loss: 0.6851 - accuracy: 0.5411\n",
      "Epoch 4/5\n",
      "13/13 [==============================] - ETA: 0s - loss: 0.6644 - accuracy: 0.6014\n",
      "Epoch 4: saving model to checkpoint\\model_checkpoint.h5\n",
      "13/13 [==============================] - 47s 4s/step - loss: 0.6644 - accuracy: 0.6014\n",
      "Epoch 5/5\n",
      "13/13 [==============================] - ETA: 0s - loss: 0.6974 - accuracy: 0.5145\n",
      "Epoch 5: saving model to checkpoint\\model_checkpoint.h5\n",
      "13/13 [==============================] - 53s 4s/step - loss: 0.6974 - accuracy: 0.5145\n"
     ]
    },
    {
     "data": {
      "text/plain": [
       "<keras.callbacks.History at 0x11b6515f250>"
      ]
     },
     "execution_count": 13,
     "metadata": {},
     "output_type": "execute_result"
    }
   ],
   "source": [
    "# Continue training from a specific epoch\n",
    "epochs_completed = 0  # Change this to the number of epochs already completed\n",
    "total_epochs = 5  # The total number of epochs (including completed ones)\n",
    "# total_epochs = 25  # The total number of epochs (including completed ones)\n",
    "\n",
    "ConvNN.fit(\n",
    "    images, \n",
    "    enc_labels, \n",
    "    initial_epoch=epochs_completed,\n",
    "    epochs=total_epochs, \n",
    "    callbacks = [model_checkpoint])"
   ]
  },
  {
   "cell_type": "code",
   "execution_count": 14,
   "metadata": {},
   "outputs": [
    {
     "data": {
      "text/plain": [
       "(None, 2)"
      ]
     },
     "execution_count": 14,
     "metadata": {},
     "output_type": "execute_result"
    }
   ],
   "source": [
    "keras.utils.set_random_seed(1234)\n",
    "ConvNN = keras.Sequential()\n",
    "ConvNN.bias = 0.5\n",
    "ConvNN.add(keras.layers.Input((512, 512)))\n",
    "ConvNN.add(keras.layers.Rescaling(1.0/255))\n",
    "\n",
    "ConvNN.add(keras.layers.RandomFlip(\n",
    "    mode=\"horizontal_and_vertical\", seed=1234\n",
    "))\n",
    "\n",
    "\n",
    "\n",
    "\n",
    "ConvNN.add(keras.layers.Convolution1D(256, (4), strides=(2), activation='relu'))\n",
    "ConvNN.add(keras.layers.MaxPool1D(2))\n",
    "\n",
    "ConvNN.add(keras.layers.Convolution1D(128, (4), strides=(2), activation='relu'))\n",
    "ConvNN.add(keras.layers.MaxPool1D(2))\n",
    "\n",
    "ConvNN.add(keras.layers.Convolution1D(64,  (4), strides=(2), activation='relu'))\n",
    "ConvNN.add(keras.layers.MaxPool1D(2))\n",
    "\n",
    "ConvNN.add(keras.layers.Flatten())\n",
    "ConvNN.add(keras.layers.Dense(262144, activation='relu'))\n",
    "ConvNN.add(keras.layers.Dense(512, activation='relu'))\n",
    "ConvNN.add(keras.layers.Dense(256,  activation='relu'))\n",
    "\n",
    "ConvNN.add(keras.layers.Dropout(.5))\n",
    "\n",
    "ConvNN.add(keras.layers.Dense(2, activation='softmax'))\n",
    "ConvNN.output_shape"
   ]
  },
  {
   "cell_type": "code",
   "execution_count": 15,
   "metadata": {},
   "outputs": [],
   "source": [
    "# callbacksConv = [\n",
    "#     keras.callbacks.ModelCheckpoint(\"convNNv2_save_at_{epoch}.h5\"),\n",
    "# ]"
   ]
  },
  {
   "cell_type": "code",
   "execution_count": 16,
   "metadata": {},
   "outputs": [],
   "source": [
    "callbacksConv = [\n",
    "    keras.callbacks.ModelCheckpoint(\"convNNv2_save_at_{epoch}.h5\"),\n",
    "]"
   ]
  },
  {
   "cell_type": "code",
   "execution_count": 17,
   "metadata": {},
   "outputs": [],
   "source": [
    "# Define the checkpoint path\n",
    "checkpoint_path = \"checkpoint/convNNv2_save_at_checkpoint.h5\"\n",
    "\n",
    "import os\n",
    "# Define the ModelCheckpoint callback\n",
    "model_checkpoint2 = ModelCheckpoint(\n",
    "    checkpoint_path,\n",
    "    save_best_only=False,  # Save only the best model\n",
    "    monitor='val_loss',  # Monitor validation loss for saving the best model\n",
    "    mode='min',  # 'min' mode for loss (you can change it to 'max' for accuracy)\n",
    "    verbose=1  # Print a message when a new best model is saved\n",
    ")\n",
    "\n",
    "# Load the model weights if a checkpoint file exists\n",
    "if os.path.exists(checkpoint_path):\n",
    "    ConvNN.load_weights(checkpoint_path)"
   ]
  },
  {
   "cell_type": "code",
   "execution_count": 18,
   "metadata": {},
   "outputs": [],
   "source": [
    "ConvNN.compile( metrics=[\"accuracy\"], \n",
    "optimizer = keras.optimizers.Adam(learning_rate=1e-3), \n",
    "loss=\"categorical_crossentropy\")"
   ]
  },
  {
   "cell_type": "code",
   "execution_count": 19,
   "metadata": {},
   "outputs": [
    {
     "name": "stdout",
     "output_type": "stream",
     "text": [
      "Epoch 1/5\n",
      "13/13 [==============================] - ETA: 0s - loss: 3.0471 - accuracy: 0.4831\n",
      "Epoch 1: saving model to checkpoint\\convNNv2_save_at_checkpoint.h5\n",
      "13/13 [==============================] - 101s 8s/step - loss: 3.0471 - accuracy: 0.4831\n",
      "Epoch 2/5\n",
      "13/13 [==============================] - ETA: 0s - loss: 0.6977 - accuracy: 0.4928\n",
      "Epoch 2: saving model to checkpoint\\convNNv2_save_at_checkpoint.h5\n",
      "13/13 [==============================] - 95s 8s/step - loss: 0.6977 - accuracy: 0.4928\n",
      "Epoch 3/5\n",
      "13/13 [==============================] - ETA: 0s - loss: 0.6936 - accuracy: 0.5072\n",
      "Epoch 3: saving model to checkpoint\\convNNv2_save_at_checkpoint.h5\n",
      "13/13 [==============================] - 78s 6s/step - loss: 0.6936 - accuracy: 0.5072\n",
      "Epoch 4/5\n",
      "13/13 [==============================] - ETA: 0s - loss: 0.6969 - accuracy: 0.5048\n",
      "Epoch 4: saving model to checkpoint\\convNNv2_save_at_checkpoint.h5\n",
      "13/13 [==============================] - 77s 6s/step - loss: 0.6969 - accuracy: 0.5048\n",
      "Epoch 5/5\n",
      "13/13 [==============================] - ETA: 0s - loss: 0.6972 - accuracy: 0.4831\n",
      "Epoch 5: saving model to checkpoint\\convNNv2_save_at_checkpoint.h5\n",
      "13/13 [==============================] - 69s 6s/step - loss: 0.6972 - accuracy: 0.4831\n"
     ]
    },
    {
     "data": {
      "text/plain": [
       "<keras.callbacks.History at 0x11b735bdbb0>"
      ]
     },
     "execution_count": 19,
     "metadata": {},
     "output_type": "execute_result"
    }
   ],
   "source": [
    "# Continue training from a specific epoch\n",
    "epochs_completed = 0  # Change this to the number of epochs already completed\n",
    "total_epochs = 5  # The total number of epochs (including completed ones)\n",
    "# total_epochs = 25  # The total number of epochs (including completed ones)\n",
    "\n",
    "ConvNN.fit(\n",
    "    images, \n",
    "    enc_labels, \n",
    "    initial_epoch=epochs_completed,\n",
    "    epochs=total_epochs, \n",
    "    callbacks = [model_checkpoint2])"
   ]
  },
  {
   "cell_type": "code",
   "execution_count": 20,
   "metadata": {},
   "outputs": [],
   "source": [
    "# ConvNN.fit(images, enc_labels, epochs=25, callbacks = callbacksConv)"
   ]
  }
 ],
 "metadata": {
  "kernelspec": {
   "display_name": "Python 3.10.8 64-bit (microsoft store)",
   "language": "python",
   "name": "python3"
  },
  "language_info": {
   "codemirror_mode": {
    "name": "ipython",
    "version": 3
   },
   "file_extension": ".py",
   "mimetype": "text/x-python",
   "name": "python",
   "nbconvert_exporter": "python",
   "pygments_lexer": "ipython3",
   "version": "3.9.7"
  },
  "orig_nbformat": 4,
  "vscode": {
   "interpreter": {
    "hash": "0dd6fa3abc8b5e7149b352393c5164f57b1cec79d3e0f994a3fd8126332678a6"
   }
  }
 },
 "nbformat": 4,
 "nbformat_minor": 2
}
